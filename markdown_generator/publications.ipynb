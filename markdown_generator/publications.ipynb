{
 "cells": [
  {
   "cell_type": "markdown",
   "metadata": {
    "deletable": true,
    "editable": true
   },
   "source": [
    "# Publications markdown generator for academicpages\n",
    "\n",
    "Takes a TSV of publications with metadata and converts them for use with [academicpages.github.io](academicpages.github.io). This is an interactive Jupyter notebook ([see more info here](http://jupyter-notebook-beginner-guide.readthedocs.io/en/latest/what_is_jupyter.html)). The core python code is also in `publications.py`. Run either from the `markdown_generator` folder after replacing `publications.tsv` with one containing your data.\n",
    "\n",
    "TODO: Make this work with BibTex and other databases of citations, rather than Stuart's non-standard TSV format and citation style.\n"
   ]
  },
  {
   "cell_type": "markdown",
   "metadata": {},
   "source": [
    "## Data format\n",
    "\n",
    "The TSV needs to have the following columns: pub_date, title, venue, excerpt, citation, site_url, and paper_url, with a header at the top. \n",
    "\n",
    "- `excerpt` and `paper_url` can be blank, but the others must have values. \n",
    "- `pub_date` must be formatted as YYYY-MM-DD.\n",
    "- `url_slug` will be the descriptive part of the .md file and the permalink URL for the page about the paper. The .md file will be `YYYY-MM-DD-[url_slug].md` and the permalink will be `https://[yourdomain]/publications/YYYY-MM-DD-[url_slug]`\n",
    "\n",
    "This is how the raw file looks (it doesn't look pretty, use a spreadsheet or other program to edit and create)."
   ]
  },
  {
   "cell_type": "code",
   "execution_count": 8,
   "metadata": {
    "collapsed": false
   },
   "outputs": [
    {
     "name": "stdout",
     "output_type": "stream",
     "text": [
      "pub_date\ttitle\tvenue\texcerpt\tcitation\turl_slug\tpaper_url\tslides_url\n",
      "2025-09-30\tToward Quantum-Enabled Biomarker Discovery: An Outlook from Q4Bio\tarXiv (quant-ph)\tOutlook on hybrid quantum–classical pipelines for biomarker discovery; defines empirical quantum advantage and sketches a co-designed path to near-term feasibility.\tShah, D., Teo, M., Robinett, R. A., Madejski, S., Morrell, Z., Ramesh, S., Campbell, C., Thotakura, B., Omole, V., Hall, B., Harrow, A. W., Tomesh, T., Pearson, A. T., Chong, F. T., & Riesenfeld, S. J. (2025). \"Toward Quantum-Enabled Biomarker Discovery: An Outlook from Q4Bio.\" <i>arXiv</i>, arXiv:2509.25904.\tq4bio-quantum-enabled-biomarker-discovery-outlook\thttps://arxiv.org/pdf/2509.25904\t\n",
      "2025-08-18\tNoisy Quantum Simulation Using Tracking, Uncomputation and Sampling\tarXiv (quant-ph)\tIntroduces TUSQ, a simulator that reduces overhead for noisy circuit emulation via tracking, uncomputation, and tree-based sampling.\tDangwal, S., Oberoi, T., Sailopal, A., Shah, D., & Chong, F. T. (2025). \"Noisy Quantum Simulation Using Tracking, Uncomputation and Sampling.\" <i>arXiv</i>, arXiv:2508.04880.\ttusq-noisy-quantum-simulation-tracking-uncomputation-sampling\thttps://arxiv.org/pdf/2508.04880.pdf\t\n",
      "2024-09-20\tCircuit decompositions and scheduling for neutral atom devices with limited local addressability\tIEEE International Conference on Quantum Computing and Engineering (QCE 2024)\tCompiler pipeline and scheduling that minimize global-rotation costs for neutral atom hardware, improving circuit duration and fidelity.\tNottingham, N., Perlin, M. A., Shah, D., White, R., Bernien, H., Chong, F. T., & Baker, J. M. (2024). \"Circuit decompositions and scheduling for neutral atom devices with limited local addressability.\" <i>IEEE International Conference on Quantum Computing and Engineering (QCE)</i>.\tneutral-atom-compiler-decompositions-scheduling-qce2024\thttps://arxiv.org/pdf/2307.14996.pdf\t\n",
      "2024-02-20\tYFlows: Systematic Dataflow Exploration and Code Generation for Efficient Neural Network Inference using SIMD Architectures on CPUs\tProceedings of the 33rd ACM SIGPLAN International Conference on Compiler Construction (CC 2024)\tExplores dataflow choices and code generation to accelerate CPU inference, achieving strong speedups across NN workloads.\tZhou, C., Hassman, Z., Shah, D., Richard, V., & Li, Y. (2024). \"YFlows: Systematic Dataflow Exploration and Code Generation for Efficient Neural Network Inference using SIMD Architectures on CPUs.\" <i>CC 2024</i>, pp. 212–226.\tyflows-simd-dataflow-cpu-inference-cc2024\thttps://arxiv.org/pdf/2310.00574.pdf\t\n",
      "2023-08-18\tApplicability of Clay/Organic Clay to Environmental Pollutants: Green Way—An Overview\tApplied Sciences\tOverview of clay and organoclay materials for air, water, and soil pollution control with a green-chemistry perspective.\tQi, J., Yu, J., Shah, K. J., Shah, D. D., & You, Z. (2023). \"Applicability of Clay/Organic Clay to Environmental Pollutants: Green Way—An Overview.\" <i>Applied Sciences</i>, 13(16):9395.\tapplicability-of-clay-organic-clay-to-environmental-pollutants-green-way-an-overview\thttps://www.mdpi.com/2076-3417/13/16/9395/pdf\t"
     ]
    }
   ],
   "source": [
    "!cat publications.tsv"
   ]
  },
  {
   "cell_type": "markdown",
   "metadata": {},
   "source": [
    "## Import pandas\n",
    "\n",
    "We are using the very handy pandas library for dataframes."
   ]
  },
  {
   "cell_type": "code",
   "execution_count": 9,
   "metadata": {
    "collapsed": true,
    "deletable": true,
    "editable": true
   },
   "outputs": [],
   "source": [
    "import pandas as pd"
   ]
  },
  {
   "cell_type": "markdown",
   "metadata": {},
   "source": [
    "## Import TSV\n",
    "\n",
    "Pandas makes this easy with the read_csv function. We are using a TSV, so we specify the separator as a tab, or `\\t`.\n",
    "\n",
    "I found it important to put this data in a tab-separated values format, because there are a lot of commas in this kind of data and comma-separated values can get messed up. However, you can modify the import statement, as pandas also has read_excel(), read_json(), and others."
   ]
  },
  {
   "cell_type": "code",
   "execution_count": 10,
   "metadata": {
    "collapsed": false,
    "deletable": true,
    "editable": true
   },
   "outputs": [
    {
     "data": {
      "text/html": [
       "<div>\n",
       "<style scoped>\n",
       "    .dataframe tbody tr th:only-of-type {\n",
       "        vertical-align: middle;\n",
       "    }\n",
       "\n",
       "    .dataframe tbody tr th {\n",
       "        vertical-align: top;\n",
       "    }\n",
       "\n",
       "    .dataframe thead th {\n",
       "        text-align: right;\n",
       "    }\n",
       "</style>\n",
       "<table border=\"1\" class=\"dataframe\">\n",
       "  <thead>\n",
       "    <tr style=\"text-align: right;\">\n",
       "      <th></th>\n",
       "      <th>pub_date</th>\n",
       "      <th>title</th>\n",
       "      <th>venue</th>\n",
       "      <th>excerpt</th>\n",
       "      <th>citation</th>\n",
       "      <th>url_slug</th>\n",
       "      <th>paper_url</th>\n",
       "      <th>slides_url</th>\n",
       "    </tr>\n",
       "  </thead>\n",
       "  <tbody>\n",
       "    <tr>\n",
       "      <th>0</th>\n",
       "      <td>2025-09-30</td>\n",
       "      <td>Toward Quantum-Enabled Biomarker Discovery: An...</td>\n",
       "      <td>arXiv (quant-ph)</td>\n",
       "      <td>Outlook on hybrid quantum–classical pipelines ...</td>\n",
       "      <td>Shah, D., Teo, M., Robinett, R. A., Madejski, ...</td>\n",
       "      <td>q4bio-quantum-enabled-biomarker-discovery-outlook</td>\n",
       "      <td>https://arxiv.org/pdf/2509.25904</td>\n",
       "      <td>NaN</td>\n",
       "    </tr>\n",
       "    <tr>\n",
       "      <th>1</th>\n",
       "      <td>2025-08-18</td>\n",
       "      <td>Noisy Quantum Simulation Using Tracking, Uncom...</td>\n",
       "      <td>arXiv (quant-ph)</td>\n",
       "      <td>Introduces TUSQ, a simulator that reduces over...</td>\n",
       "      <td>Dangwal, S., Oberoi, T., Sailopal, A., Shah, D...</td>\n",
       "      <td>tusq-noisy-quantum-simulation-tracking-uncompu...</td>\n",
       "      <td>https://arxiv.org/pdf/2508.04880.pdf</td>\n",
       "      <td>NaN</td>\n",
       "    </tr>\n",
       "    <tr>\n",
       "      <th>2</th>\n",
       "      <td>2024-09-20</td>\n",
       "      <td>Circuit decompositions and scheduling for neut...</td>\n",
       "      <td>IEEE International Conference on Quantum Compu...</td>\n",
       "      <td>Compiler pipeline and scheduling that minimize...</td>\n",
       "      <td>Nottingham, N., Perlin, M. A., Shah, D., White...</td>\n",
       "      <td>neutral-atom-compiler-decompositions-schedulin...</td>\n",
       "      <td>https://arxiv.org/pdf/2307.14996.pdf</td>\n",
       "      <td>NaN</td>\n",
       "    </tr>\n",
       "    <tr>\n",
       "      <th>3</th>\n",
       "      <td>2024-02-20</td>\n",
       "      <td>YFlows: Systematic Dataflow Exploration and Co...</td>\n",
       "      <td>Proceedings of the 33rd ACM SIGPLAN Internatio...</td>\n",
       "      <td>Explores dataflow choices and code generation ...</td>\n",
       "      <td>Zhou, C., Hassman, Z., Shah, D., Richard, V., ...</td>\n",
       "      <td>yflows-simd-dataflow-cpu-inference-cc2024</td>\n",
       "      <td>https://arxiv.org/pdf/2310.00574.pdf</td>\n",
       "      <td>NaN</td>\n",
       "    </tr>\n",
       "    <tr>\n",
       "      <th>4</th>\n",
       "      <td>2023-08-18</td>\n",
       "      <td>Applicability of Clay/Organic Clay to Environm...</td>\n",
       "      <td>Applied Sciences</td>\n",
       "      <td>Overview of clay and organoclay materials for ...</td>\n",
       "      <td>Qi, J., Yu, J., Shah, K. J., Shah, D. D., &amp; Yo...</td>\n",
       "      <td>applicability-of-clay-organic-clay-to-environm...</td>\n",
       "      <td>https://www.mdpi.com/2076-3417/13/16/9395/pdf</td>\n",
       "      <td>NaN</td>\n",
       "    </tr>\n",
       "  </tbody>\n",
       "</table>\n",
       "</div>"
      ],
      "text/plain": [
       "     pub_date                                              title  \\\n",
       "0  2025-09-30  Toward Quantum-Enabled Biomarker Discovery: An...   \n",
       "1  2025-08-18  Noisy Quantum Simulation Using Tracking, Uncom...   \n",
       "2  2024-09-20  Circuit decompositions and scheduling for neut...   \n",
       "3  2024-02-20  YFlows: Systematic Dataflow Exploration and Co...   \n",
       "4  2023-08-18  Applicability of Clay/Organic Clay to Environm...   \n",
       "\n",
       "                                               venue  \\\n",
       "0                                   arXiv (quant-ph)   \n",
       "1                                   arXiv (quant-ph)   \n",
       "2  IEEE International Conference on Quantum Compu...   \n",
       "3  Proceedings of the 33rd ACM SIGPLAN Internatio...   \n",
       "4                                   Applied Sciences   \n",
       "\n",
       "                                             excerpt  \\\n",
       "0  Outlook on hybrid quantum–classical pipelines ...   \n",
       "1  Introduces TUSQ, a simulator that reduces over...   \n",
       "2  Compiler pipeline and scheduling that minimize...   \n",
       "3  Explores dataflow choices and code generation ...   \n",
       "4  Overview of clay and organoclay materials for ...   \n",
       "\n",
       "                                            citation  \\\n",
       "0  Shah, D., Teo, M., Robinett, R. A., Madejski, ...   \n",
       "1  Dangwal, S., Oberoi, T., Sailopal, A., Shah, D...   \n",
       "2  Nottingham, N., Perlin, M. A., Shah, D., White...   \n",
       "3  Zhou, C., Hassman, Z., Shah, D., Richard, V., ...   \n",
       "4  Qi, J., Yu, J., Shah, K. J., Shah, D. D., & Yo...   \n",
       "\n",
       "                                            url_slug  \\\n",
       "0  q4bio-quantum-enabled-biomarker-discovery-outlook   \n",
       "1  tusq-noisy-quantum-simulation-tracking-uncompu...   \n",
       "2  neutral-atom-compiler-decompositions-schedulin...   \n",
       "3          yflows-simd-dataflow-cpu-inference-cc2024   \n",
       "4  applicability-of-clay-organic-clay-to-environm...   \n",
       "\n",
       "                                       paper_url  slides_url  \n",
       "0               https://arxiv.org/pdf/2509.25904         NaN  \n",
       "1           https://arxiv.org/pdf/2508.04880.pdf         NaN  \n",
       "2           https://arxiv.org/pdf/2307.14996.pdf         NaN  \n",
       "3           https://arxiv.org/pdf/2310.00574.pdf         NaN  \n",
       "4  https://www.mdpi.com/2076-3417/13/16/9395/pdf         NaN  "
      ]
     },
     "execution_count": 10,
     "metadata": {},
     "output_type": "execute_result"
    }
   ],
   "source": [
    "publications = pd.read_csv(\"publications.tsv\", sep=\"\\t\", header=0)\n",
    "publications\n"
   ]
  },
  {
   "cell_type": "markdown",
   "metadata": {},
   "source": [
    "## Escape special characters\n",
    "\n",
    "YAML is very picky about how it takes a valid string, so we are replacing single and double quotes (and ampersands) with their HTML encoded equivilents. This makes them look not so readable in raw format, but they are parsed and rendered nicely."
   ]
  },
  {
   "cell_type": "code",
   "execution_count": 11,
   "metadata": {
    "collapsed": true,
    "deletable": true,
    "editable": true
   },
   "outputs": [],
   "source": [
    "html_escape_table = {\n",
    "    \"&\": \"&amp;\",\n",
    "    '\"': \"&quot;\",\n",
    "    \"'\": \"&apos;\"\n",
    "    }\n",
    "\n",
    "def html_escape(text):\n",
    "    \"\"\"Produce entities within text.\"\"\"\n",
    "    return \"\".join(html_escape_table.get(c,c) for c in text)"
   ]
  },
  {
   "cell_type": "markdown",
   "metadata": {},
   "source": [
    "## Creating the markdown files\n",
    "\n",
    "This is where the heavy lifting is done. This loops through all the rows in the TSV dataframe, then starts to concatentate a big string (```md```) that contains the markdown for each type. It does the YAML metadata first, then does the description for the individual page."
   ]
  },
  {
   "cell_type": "code",
   "execution_count": 12,
   "metadata": {
    "collapsed": false,
    "deletable": true,
    "editable": true
   },
   "outputs": [],
   "source": [
    "import os\n",
    "for row, item in publications.iterrows():\n",
    "    \n",
    "    md_filename = str(item.pub_date) + \"-\" + item.url_slug + \".md\"\n",
    "    html_filename = str(item.pub_date) + \"-\" + item.url_slug\n",
    "    year = item.pub_date[:4]\n",
    "    \n",
    "    ## YAML variables\n",
    "    \n",
    "    md = \"---\\ntitle: \\\"\"   + item.title + '\"\\n'\n",
    "    \n",
    "    md += \"\"\"collection: publications\"\"\"\n",
    "    \n",
    "    md += \"\"\"\\npermalink: /publication/\"\"\" + html_filename\n",
    "    \n",
    "    if len(str(item.excerpt)) > 5:\n",
    "        md += \"\\nexcerpt: '\" + html_escape(item.excerpt) + \"'\"\n",
    "    \n",
    "    md += \"\\ndate: \" + str(item.pub_date) \n",
    "    \n",
    "    md += \"\\nvenue: '\" + html_escape(item.venue) + \"'\"\n",
    "    \n",
    "    if len(str(item.slides_url)) > 5:\n",
    "        md += \"\\nslidesurl: '\" + item.slides_url + \"'\"\n",
    "\n",
    "    if len(str(item.paper_url)) > 5:\n",
    "        md += \"\\npaperurl: '\" + item.paper_url + \"'\"\n",
    "    \n",
    "    md += \"\\ncitation: '\" + html_escape(item.citation) + \"'\"\n",
    "    \n",
    "    md += \"\\n---\"\n",
    "    \n",
    "    ## Markdown description for individual page\n",
    "        \n",
    "    if len(str(item.excerpt)) > 5:\n",
    "        md += \"\\n\" + html_escape(item.excerpt) + \"\\n\"\n",
    "\n",
    "    if len(str(item.slides_url)) > 5:\n",
    "        md += \"\\n[Download slides here](\" + item.slides_url + \")\\n\" \n",
    "\n",
    "    if len(str(item.paper_url)) > 5:\n",
    "        md += \"\\n[Download paper here](\" + item.paper_url + \")\\n\" \n",
    "        \n",
    "    md += \"\\nRecommended citation: \" + item.citation\n",
    "    \n",
    "    md_filename = os.path.basename(md_filename)\n",
    "       \n",
    "    with open(\"../_publications/\" + md_filename, 'w') as f:\n",
    "        f.write(md)"
   ]
  },
  {
   "cell_type": "markdown",
   "metadata": {},
   "source": [
    "These files are in the publications directory, one directory below where we're working from."
   ]
  },
  {
   "cell_type": "code",
   "execution_count": 13,
   "metadata": {
    "collapsed": false,
    "deletable": true,
    "editable": true
   },
   "outputs": [
    {
     "name": "stdout",
     "output_type": "stream",
     "text": [
      "2023-08-18-applicability-of-clay-organic-clay-to-environmental-pollutants-green-way-an-overview.md\n",
      "2024-02-20-yflows-simd-dataflow-cpu-inference-cc2024.md\n",
      "2024-09-20-neutral-atom-compiler-decompositions-scheduling-qce2024.md\n",
      "2025-08-18-tusq-noisy-quantum-simulation-tracking-uncomputation-sampling.md\n",
      "2025-09-30-q4bio-quantum-enabled-biomarker-discovery-outlook.md\n"
     ]
    }
   ],
   "source": [
    "!ls ../_publications/"
   ]
  },
  {
   "cell_type": "code",
   "execution_count": 14,
   "metadata": {
    "collapsed": false,
    "deletable": true,
    "editable": true
   },
   "outputs": [
    {
     "name": "stdout",
     "output_type": "stream",
     "text": [
      "cat: ../_publications/2009-10-01-paper-title-number-1.md: No such file or directory\n"
     ]
    }
   ],
   "source": [
    "!cat ../_publications/2009-10-01-paper-title-number-1.md"
   ]
  },
  {
   "cell_type": "code",
   "execution_count": null,
   "metadata": {
    "collapsed": true,
    "deletable": true,
    "editable": true
   },
   "outputs": [],
   "source": []
  }
 ],
 "metadata": {
  "kernelspec": {
   "display_name": "condavenv",
   "language": "python",
   "name": "python3"
  },
  "language_info": {
   "codemirror_mode": {
    "name": "ipython",
    "version": 3
   },
   "file_extension": ".py",
   "mimetype": "text/x-python",
   "name": "python",
   "nbconvert_exporter": "python",
   "pygments_lexer": "ipython3",
   "version": "3.12.9"
  }
 },
 "nbformat": 4,
 "nbformat_minor": 0
}
